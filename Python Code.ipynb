{
 "cells": [
  {
   "cell_type": "code",
   "execution_count": 1,
   "id": "a2b873da",
   "metadata": {},
   "outputs": [],
   "source": [
    "import pandas as pd\n",
    "from pandas import DataFrame as df\n",
    "import numpy as np\n",
    "import time\n",
    "####################################\n",
    "from selenium import webdriver\n",
    "from bs4 import BeautifulSoup as bs\n",
    "import re as re\n",
    "from selenium.webdriver.common.keys import Keys\n",
    "from selenium.webdriver.common.by import By"
   ]
  },
  {
   "cell_type": "code",
   "execution_count": 2,
   "id": "8a3ffafc",
   "metadata": {},
   "outputs": [],
   "source": [
    "#1 Remove all symbols\n",
    "def remove_symbs(text):\n",
    "    html = re.compile(r'[^\\w]')\n",
    "    return html.sub(r\" \", text)\n",
    "\n",
    "#2 Remove > -> output\n",
    "def afterfix(text):\n",
    "    there = re.compile(' › ')\n",
    "    return there.sub('/', text)\n",
    "\n",
    "#3 Remove LLC\n",
    "def removeLLC(text):\n",
    "    LLC = re.compile(' LLC|LLC | L L C')\n",
    "    return LLC.sub(' ', text)\n",
    "\n",
    "#4 Remove LP\n",
    "def removeLP(text):\n",
    "    LP = re.compile('LP|L P')\n",
    "    return LP.sub(' ', text)\n",
    "\n",
    "#5 Remove B2B\n",
    "def removeB2B(text):\n",
    "    B2B = re.compile('B2B')\n",
    "    return B2B.sub(' ', text)\n",
    "\n",
    "#6 Remove Org\n",
    "def removeOrg(text):\n",
    "    Org = re.compile('Org|ORG|ORG ID|ID')\n",
    "    return Org.sub(' ', text)\n",
    "\n",
    "#7 Remove /.../ -> Output\n",
    "def removedots(text):\n",
    "    dots = re.compile(\"[\\.]\"*3)\n",
    "    return dots.sub(' ', text)\n",
    "\n",
    "#8 Remove everything thats starts with 00 (Org ID)\n",
    "def splitorgid(text):\n",
    "    text = text.split('00', 1)[0]\n",
    "    return text\n",
    "\n",
    "#9 Special removals\n",
    "def remove2U(text):\n",
    "    U = re.compile('NewOrg6 |Chartreuse')\n",
    "    return U.sub(' ', text)"
   ]
  },
  {
   "cell_type": "code",
   "execution_count": 3,
   "id": "8842a6a5",
   "metadata": {},
   "outputs": [],
   "source": [
    "s = pd.read_csv('XXX.csv')\n",
    "b = []"
   ]
  },
  {
   "cell_type": "code",
   "execution_count": 4,
   "id": "b7e6e92e",
   "metadata": {},
   "outputs": [],
   "source": [
    "# Remove duplicates and apply functions\n",
    "s = s.drop_duplicates()\n",
    "s.reset_index(drop=True, inplace=True)\n",
    "s[\"Customer Name\"] = s['Customer Name'].map(lambda x: remove_symbs(x)) #1 --> #1\n",
    "s[\"Customer Name\"] = s['Customer Name'].map(lambda x: removeLLC(x)) #2 --> #3\n",
    "s[\"Customer Name\"] = s['Customer Name'].map(lambda x: removeLP(x)) #3 --> #4\n",
    "s[\"Customer Name\"] = s['Customer Name'].map(lambda x: removeB2B(x)) #4 --> #5\n",
    "s[\"Customer Name\"] = s['Customer Name'].map(lambda x: removeOrg(x)) #5 --> #6\n",
    "s[\"Customer Name\"] = s['Customer Name'].map(lambda x: remove2U(x)) #6 --> #9\n",
    "s[\"Customer Name\"] = s['Customer Name'].map(lambda x: splitorgid(x)) #7 --> #8"
   ]
  },
  {
   "cell_type": "code",
   "execution_count": 5,
   "id": "58fd79b6",
   "metadata": {},
   "outputs": [
    {
     "data": {
      "text/html": [
       "<div>\n",
       "<style scoped>\n",
       "    .dataframe tbody tr th:only-of-type {\n",
       "        vertical-align: middle;\n",
       "    }\n",
       "\n",
       "    .dataframe tbody tr th {\n",
       "        vertical-align: top;\n",
       "    }\n",
       "\n",
       "    .dataframe thead th {\n",
       "        text-align: right;\n",
       "    }\n",
       "</style>\n",
       "<table border=\"1\" class=\"dataframe\">\n",
       "  <thead>\n",
       "    <tr style=\"text-align: right;\">\n",
       "      <th></th>\n",
       "      <th>Customer Name</th>\n",
       "    </tr>\n",
       "  </thead>\n",
       "  <tbody>\n",
       "    <tr>\n",
       "      <th>0</th>\n",
       "      <td>Linkedin</td>\n",
       "    </tr>\n",
       "    <tr>\n",
       "      <th>1</th>\n",
       "      <td>Mercedes Benz</td>\n",
       "    </tr>\n",
       "    <tr>\n",
       "      <th>2</th>\n",
       "      <td>Pringles</td>\n",
       "    </tr>\n",
       "    <tr>\n",
       "      <th>3</th>\n",
       "      <td>Microsoft</td>\n",
       "    </tr>\n",
       "  </tbody>\n",
       "</table>\n",
       "</div>"
      ],
      "text/plain": [
       "   Customer Name\n",
       "0       Linkedin\n",
       "1  Mercedes Benz\n",
       "2      Pringles \n",
       "3      Microsoft"
      ]
     },
     "execution_count": 5,
     "metadata": {},
     "output_type": "execute_result"
    }
   ],
   "source": [
    "s"
   ]
  },
  {
   "cell_type": "code",
   "execution_count": 6,
   "id": "c39a00c0",
   "metadata": {},
   "outputs": [],
   "source": [
    "xpaths = ['//*[@id=\"rso\"]/div[1]/div/div[1]/div/a/div/cite',\n",
    "         '//*[@id=\"rso\"]/div[1]/div/div/div/div/div/div/div[1]/a/div/cite',\n",
    "         '//*[@id=\"rso\"]/div[1]/div/div/div/div/div/div[1]/a/div/cite',\n",
    "         '//*[@id=\"rso\"]/div[1]/div/div/div[1]/div/a/div/cite',\n",
    "         '//*[@id=\"rso\"]/div[3]/div/div[1]/div/a/div/cite',\n",
    "         '//*[@id=\"rso\"]/div[2]/div/div/div/div/div/div[1]/a/div/cite',\n",
    "         '//*[@id=\"kp-wp-tab-overview\"]/div[1]/div/div/div/div/div/div/div/div/div/div/div/div[1]/a/div/cite',\n",
    "         '//*[@id=\"rso\"]/div[2]/div/div/div/div/div/div/div[1]/a/div/cite',\n",
    "         '//*[@id=\"rso\"]/div[3]/div/div[1]/div/div/div[1]/div/a/div/cite',\n",
    "         '//*[@id=\"rso\"]/div[3]/div/div/div[1]/div/a/div/cite',\n",
    "         '//*[@id=\"rso\"]/div[2]/div/div/div[1]/div/a/div/cite',\n",
    "         '//*[@id=\"rso\"]/div[1]/div/div[1]/div/a/div/cite',\n",
    "         '//*[@id=\"kp-wp-tab-overview\"]/div[1]/div/div/div/div/div/div/div/div[1]/div/a/div/cite',\n",
    "         '//*[@id=\"kp-wp-tab-overview\"]/div[2]/div/div/div/div/div/div/div/div/div/div/div/div[1]/a/div/cite',\n",
    "         '//*[@id=\"rso\"]/div[3]/div/div/div/div/div/div/div[1]/a/div/cite',\n",
    "         '//*[@id=\"rso\"]/div[4]/div/div[1]/div/a/div/cite',\n",
    "         '//*[@id=\"rso\"]/div[4]/div/div[1]/div/a/div/cite',\n",
    "         '//*[@id=\"kp-wp-tab-overview\"]/div[2]/div/div/div/div/div/div/div[1]/div/div/div[1]/div/a/div/cite',\n",
    "         '//*[@id=\"kp-wp-tab-overview\"]/div[1]/div/div/div/div/div/div/div[1]/div/div/div[1]/div/a/div/cite',\n",
    "         '//*[@id=\"rso\"]/div[4]/div/div[1]/div/div/div[1]/div/a/div/cite',\n",
    "        '//*[@id=\"kp-wp-tab-overview\"]/div[1]/div/div/div/div/div/div/div[1]/div/div/div/div/div/div/div[1]/a/div/cite'\n",
    "         ]"
   ]
  },
  {
   "cell_type": "code",
   "execution_count": 12,
   "id": "6c9beaba",
   "metadata": {},
   "outputs": [
    {
     "name": "stderr",
     "output_type": "stream",
     "text": [
      "<ipython-input-12-8b77d4087add>:2: DeprecationWarning: executable_path has been deprecated, please pass in a Service object\n",
      "  browser = webdriver.Chrome(executable_path = 'C:/Users\\zaid_\\Downloads\\chromedriver.exe')\n"
     ]
    }
   ],
   "source": [
    "#accessing Chromedriver\n",
    "browser = webdriver.Chrome(executable_path = 'PATH\\chromedriver.exe')\n",
    "\n",
    "#Open login page\n",
    "browser.get('https://www.google.com')\n",
    "#Allow all cookies\n",
    "browser.find_element(By.XPATH, value='//*[@id=\"L2AGLb\"]').click()\n",
    "\n",
    "# Run 1\n",
    "t = s.iloc[0]['Customer Name'] #Take first entry\n",
    "# Find the search bar\n",
    "elementID = browser.find_element(By.XPATH, value='/html/body/div[1]/div[3]/form/div[1]/div[1]/div[1]/div/div[2]/input')\n",
    "# Type first entry\n",
    "elementID.send_keys(t)\n",
    "elementID.send_keys(Keys.ENTER)\n",
    "time.sleep(7)\n",
    "# Take the first link\n",
    "for xpath in xpaths:\n",
    "    try:\n",
    "        link = browser.find_element(By.XPATH, value=xpath).text\n",
    "    except:\n",
    "        pass\n",
    "b.append(link)\n",
    "\n",
    "for i in range(1,len(s)):\n",
    "    t = s.iloc[i]['Customer Name']\n",
    "    elementID = browser.find_element(By.XPATH, value='//*[@id=\"tsf\"]/div[1]/div[1]/div[2]/div/div[2]/input')\n",
    "    elementID.clear()\n",
    "    elementID.send_keys(t)\n",
    "    elementID.send_keys(Keys.ENTER)\n",
    "    time.sleep(7)\n",
    "    # Get the first link in different scenarios.\n",
    "    for xpath in xpaths:\n",
    "        try:\n",
    "            link =  browser.find_element(By.XPATH, value=xpath).text\n",
    "        except:         \n",
    "            pass\n",
    "        \n",
    "    b.append(link)\n",
    "\n",
    "browser.quit()"
   ]
  },
  {
   "cell_type": "code",
   "execution_count": 13,
   "id": "c3094807",
   "metadata": {},
   "outputs": [],
   "source": [
    "# Create the output\n",
    "output= df(b)\n",
    "# Clean the output\n",
    "for i in range(0,len(output)):\n",
    "    output[0][i] = afterfix(str(output[0][i])) #1 --> #2\n",
    "    output[0][i] = removedots(output[0][i]) #2 --> #7"
   ]
  },
  {
   "cell_type": "code",
   "execution_count": 14,
   "id": "1b76700b",
   "metadata": {},
   "outputs": [],
   "source": [
    "# Save CSV\n",
    "List = s\n",
    "List = List.join(output)\n",
    "List.to_csv('XXX - Output.csv')"
   ]
  },
  {
   "cell_type": "code",
   "execution_count": 15,
   "id": "e94cfd0c",
   "metadata": {},
   "outputs": [
    {
     "data": {
      "text/html": [
       "<div>\n",
       "<style scoped>\n",
       "    .dataframe tbody tr th:only-of-type {\n",
       "        vertical-align: middle;\n",
       "    }\n",
       "\n",
       "    .dataframe tbody tr th {\n",
       "        vertical-align: top;\n",
       "    }\n",
       "\n",
       "    .dataframe thead th {\n",
       "        text-align: right;\n",
       "    }\n",
       "</style>\n",
       "<table border=\"1\" class=\"dataframe\">\n",
       "  <thead>\n",
       "    <tr style=\"text-align: right;\">\n",
       "      <th></th>\n",
       "      <th>0</th>\n",
       "    </tr>\n",
       "  </thead>\n",
       "  <tbody>\n",
       "    <tr>\n",
       "      <th>0</th>\n",
       "      <td>https://uk.linkedin.com</td>\n",
       "    </tr>\n",
       "    <tr>\n",
       "      <th>1</th>\n",
       "      <td>https://www.mercedes-benz.com/</td>\n",
       "    </tr>\n",
       "    <tr>\n",
       "      <th>2</th>\n",
       "      <td>https://www.pringles.com/</td>\n",
       "    </tr>\n",
       "    <tr>\n",
       "      <th>3</th>\n",
       "      <td>https://www.pringles.com/</td>\n",
       "    </tr>\n",
       "  </tbody>\n",
       "</table>\n",
       "</div>"
      ],
      "text/plain": [
       "                                 0\n",
       "0          https://uk.linkedin.com\n",
       "1  https://www.mercedes-benz.com/ \n",
       "2       https://www.pringles.com/ \n",
       "3       https://www.pringles.com/ "
      ]
     },
     "execution_count": 15,
     "metadata": {},
     "output_type": "execute_result"
    }
   ],
   "source": [
    "output"
   ]
  },
  {
   "cell_type": "code",
   "execution_count": null,
   "id": "959a7ac9",
   "metadata": {},
   "outputs": [],
   "source": []
  }
 ],
 "metadata": {
  "kernelspec": {
   "display_name": "Python 3",
   "language": "python",
   "name": "python3"
  },
  "language_info": {
   "codemirror_mode": {
    "name": "ipython",
    "version": 3
   },
   "file_extension": ".py",
   "mimetype": "text/x-python",
   "name": "python",
   "nbconvert_exporter": "python",
   "pygments_lexer": "ipython3",
   "version": "3.8.8"
  }
 },
 "nbformat": 4,
 "nbformat_minor": 5
}
